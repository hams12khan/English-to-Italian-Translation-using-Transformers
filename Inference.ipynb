{
 "cells": [
  {
   "cell_type": "code",
   "execution_count": 1,
   "metadata": {},
   "outputs": [
    {
     "name": "stderr",
     "output_type": "stream",
     "text": [
      "/home/rp273/anaconda3/envs/Hammad/lib/python3.13/site-packages/tqdm/auto.py:21: TqdmWarning: IProgress not found. Please update jupyter and ipywidgets. See https://ipywidgets.readthedocs.io/en/stable/user_install.html\n",
      "  from .autonotebook import tqdm as notebook_tqdm\n"
     ]
    },
    {
     "name": "stdout",
     "output_type": "stream",
     "text": [
      "Using device: cuda\n",
      "    SOURCE: --f=/home/rp273/.local/share/jupyter/runtime/kernel-v3110d69226bf1d3b9d256793d82fef924028bf312.json\n",
      " PREDICTED: Al  di ritorno dei posti di marmo  dei letti dei letti dei letti      .  "
     ]
    }
   ],
   "source": [
    "from pathlib import Path\n",
    "import torch\n",
    "import torch.nn as nn\n",
    "from config import get_config, latest_weights_file_path\n",
    "from train import get_model, get_ds, run_validation\n",
    "from translate import translate"
   ]
  },
  {
   "cell_type": "code",
   "execution_count": 2,
   "metadata": {},
   "outputs": [
    {
     "name": "stdout",
     "output_type": "stream",
     "text": [
      "Using device: cuda\n",
      "Max length of source sentence: 309\n",
      "Max length of target sentence: 274\n"
     ]
    },
    {
     "data": {
      "text/plain": [
       "<All keys matched successfully>"
      ]
     },
     "execution_count": 2,
     "metadata": {},
     "output_type": "execute_result"
    }
   ],
   "source": [
    "# Define the device\n",
    "device = torch.device(\"cuda\" if torch.cuda.is_available() else \"cpu\")\n",
    "print(\"Using device:\", device)\n",
    "config = get_config()\n",
    "train_dataloader, val_dataloader, tokenizer_src, tokenizer_tgt = get_ds(config)\n",
    "model = get_model(config, tokenizer_src.get_vocab_size(), tokenizer_tgt.get_vocab_size()).to(device)\n",
    "\n",
    "# Load the pretrained weights\n",
    "model_filename = latest_weights_file_path(config)\n",
    "state = torch.load(model_filename)\n",
    "model.load_state_dict(state['model_state_dict'])"
   ]
  },
  {
   "cell_type": "code",
   "execution_count": 3,
   "metadata": {},
   "outputs": [
    {
     "name": "stderr",
     "output_type": "stream",
     "text": [
      "stty: 'standard input': Inappropriate ioctl for device\n"
     ]
    },
    {
     "name": "stdout",
     "output_type": "stream",
     "text": [
      "--------------------------------------------------------------------------------\n",
      "    SOURCE: Well did I remember Mrs. Reed's face, and I eagerly sought the familiar image. It is a happy thing that time quells the longings of vengeance and hushes the promptings of rage and aversion. I had left this woman in bitterness and hate, and I came back to her now with no other emotion than a sort of ruth for her great sufferings, and a strong yearning to forget and forgive all injuries--to be reconciled and clasp hands in amity. The well-known face was there: stern, relentless as ever--there was that peculiar eye which nothing could melt, and the somewhat raised, imperious, despotic eyebrow.\n",
      "    TARGET: Mi rammentavo bene il viso della signora Reed e cercai nel letto quella nota figura; rividi quegli occhi implacabili, quei sopraccigli arcuati, imperiosi e dispotici.\n",
      " PREDICTED: Lo guardai il viso della signora Reed , e cercai di spogliarmi , e lo faceva vedere quella nota viva , quei sopraccigli e . allora la sua tenerezza , gli in lei un sentimento di felicità , che avevo corso da lei , e tutto il cuore di lei con un ' espressione di felicità che non c ' era altro , di vergogna e di vergogna , come se non c ' era altro che un ' era altro di vergogna , di un debole e di carattere , di gioielli , di gioielli , di gioielli , di sincerità , che poteva avere i suoi occhi neri e di nuovo , che ci si vedevano , il loro occhi neri e di nuovo , come si poteva amare .\n",
      "--------------------------------------------------------------------------------\n",
      "    SOURCE: He pitied his son too, more than he had done before, and reproached himself for not having paid more attention to him.\n",
      "    TARGET: Anche del figlio aveva più pena di prima e si rimproverava ora di essersi tanto poco occupato di lui.\n",
      " PREDICTED: Anche il figlio aveva più pena di prima e si era tanto occupato di non averne .\n",
      "--------------------------------------------------------------------------------\n",
      "    SOURCE: It is such rubbish, such humbug, such self-deception.\n",
      "    TARGET: È una tale assurdità, una tale menzogna, un tale autoinganno.\n",
      " PREDICTED: È una tale assurdità , una tale menzogna , una tale autoinganno .\n",
      "--------------------------------------------------------------------------------\n",
      "    SOURCE: Well, all right.\n",
      "    TARGET: Ma via.\n",
      " PREDICTED: Su , va bene .\n",
      "--------------------------------------------------------------------------------\n",
      "    SOURCE: He says, \"Get a doctor to came out here\"...'\n",
      "    TARGET: Lui dice che farà venire il dottore....\n",
      " PREDICTED: Lui dice che farà venire il dottore .\n",
      "--------------------------------------------------------------------------------\n",
      "    SOURCE: What am I to do?\n",
      "    TARGET: Che fare mai?\n",
      " PREDICTED: Che fare mai ?\n",
      "--------------------------------------------------------------------------------\n",
      "    SOURCE: 'Unfortunate child!' said the nurse, hushing the baby and continuing to walk up and down with it.\n",
      "    TARGET: — Povera bambina! — disse la njanja acquietando la piccola, e seguitò a camminare.\n",
      " PREDICTED: — Povera bambina ! — disse la njanja la piccola , e continuando a camminare .\n",
      "--------------------------------------------------------------------------------\n",
      "    SOURCE: Summoning Mary, I soon had the room in more cheerful order: I prepared him, likewise, a comfortable repast.\n",
      "    TARGET: Chiamai Maria, e la stanza prese subito un aspetto più assettato e più grazioso, e preparai una buona cena.\n",
      " PREDICTED: Maria , e la stanza era allegra e animata , e più lunga , e preparai a mangiare una buona cena .\n",
      "--------------------------------------------------------------------------------\n",
      "    SOURCE: 'I really don't know.\n",
      "    TARGET: — Io, davvero, non lo so.\n",
      " PREDICTED: — Davvero non so .\n",
      "--------------------------------------------------------------------------------\n",
      "    SOURCE: 'What have you to complain of, Stephen Arkadyevich?'\n",
      "    TARGET: — Perché vi lamentate, Stepan Arkad’ic?\n",
      " PREDICTED: — Che ne , Stepan Arkad ’ ic ?\n",
      "--------------------------------------------------------------------------------\n"
     ]
    }
   ],
   "source": [
    "run_validation(model, val_dataloader, tokenizer_src, tokenizer_tgt, config['seq_len'], device, lambda msg: print(msg), 0, None, num_examples=10)"
   ]
  },
  {
   "cell_type": "code",
   "execution_count": 4,
   "metadata": {},
   "outputs": [
    {
     "name": "stdout",
     "output_type": "stream",
     "text": [
      "Using device: cuda\n",
      "    SOURCE: Why do I need to translate this?\n",
      " PREDICTED: Perché mi   questo ....  "
     ]
    }
   ],
   "source": [
    "t = translate(\"Why do I need to translate this?\")"
   ]
  },
  {
   "cell_type": "code",
   "execution_count": 5,
   "metadata": {},
   "outputs": [
    {
     "name": "stdout",
     "output_type": "stream",
     "text": [
      "Using device: cuda\n",
      "        ID: 34\n",
      "    SOURCE: And I came out immediately, for I trembled at the idea of being dragged forth by the said Jack.\n",
      "    TARGET: Uscii subito, perché mi sgomentavo al pensiero di esser condotta fuori dal mio nascondiglio da John.\n",
      " PREDICTED: E mi accostai mi misi allora mi misi le domandai  forse eccitato forse permesso forse  via siete ucciso ...  "
     ]
    }
   ],
   "source": [
    "t = translate(34)"
   ]
  },
  {
   "cell_type": "code",
   "execution_count": null,
   "metadata": {},
   "outputs": [],
   "source": []
  }
 ],
 "metadata": {
  "kernelspec": {
   "display_name": "Hammad",
   "language": "python",
   "name": "python3"
  },
  "language_info": {
   "codemirror_mode": {
    "name": "ipython",
    "version": 3
   },
   "file_extension": ".py",
   "mimetype": "text/x-python",
   "name": "python",
   "nbconvert_exporter": "python",
   "pygments_lexer": "ipython3",
   "version": "3.13.2"
  },
  "orig_nbformat": 4
 },
 "nbformat": 4,
 "nbformat_minor": 2
}
